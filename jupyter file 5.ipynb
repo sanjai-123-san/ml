{
 "cells": [
  {
   "cell_type": "code",
   "execution_count": 1,
   "id": "533659ed-286a-4877-8a37-090fcba30863",
   "metadata": {},
   "outputs": [],
   "source": [
    "import numpy as np"
   ]
  },
  {
   "cell_type": "code",
   "execution_count": 10,
   "id": "cc87c55c-88a8-4d30-8c50-744e95de8261",
   "metadata": {},
   "outputs": [
    {
     "name": "stdin",
     "output_type": "stream",
     "text": [
      " 1 2 3\n"
     ]
    },
    {
     "name": "stdout",
     "output_type": "stream",
     "text": [
      "[False False False]\n"
     ]
    }
   ],
   "source": [
    "input_str = input().strip()\n",
    "\n",
    "# Convert the input into a numpy array of integers\n",
    "ids = np.array(list(map(int, input_str.split())))\n",
    "\n",
    "# Create a boolean array with all values initially True\n",
    "duplicate_flags = np.full(len(ids), True)\n",
    "\n",
    "# Get the first occurrence indices using np.unique\n",
    "_,first_indices = np.unique(ids, return_index=True)\n",
    "\n",
    "# Mark first occurrences as False\n",
    "duplicate_flags[first_indices] = False\n",
    "\n",
    "# Print the result\n",
    "print(duplicate_flags)"
   ]
  },
  {
   "cell_type": "code",
   "execution_count": null,
   "id": "1fe24f49-d71a-40fd-9015-254e2f3d47ab",
   "metadata": {},
   "outputs": [],
   "source": []
  }
 ],
 "metadata": {
  "kernelspec": {
   "display_name": "Python [conda env:base] *",
   "language": "python",
   "name": "conda-base-py"
  },
  "language_info": {
   "codemirror_mode": {
    "name": "ipython",
    "version": 3
   },
   "file_extension": ".py",
   "mimetype": "text/x-python",
   "name": "python",
   "nbconvert_exporter": "python",
   "pygments_lexer": "ipython3",
   "version": "3.13.5"
  }
 },
 "nbformat": 4,
 "nbformat_minor": 5
}
