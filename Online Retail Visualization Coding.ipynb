{
 "cells": [
  {
   "cell_type": "code",
   "execution_count": null,
   "id": "0b984811-d7d1-43f2-a14f-713a3dd43a5c",
   "metadata": {},
   "outputs": [],
   "source": [
    "import pandas as pd\n",
    "import numpy as np\n",
    "import matplotlib.pyplot as plt\n",
    "import seaborn as sns\n"
   ]
  },
  {
   "cell_type": "code",
   "execution_count": null,
   "id": "85648b0b-4f78-4e6c-bcf2-1f6ce9f03186",
   "metadata": {},
   "outputs": [],
   "source": [
    "# set the graphs to show in the jupyter notebook\n",
    "%matplotlib inline\n",
    "# set seaborn graphs to a better style\n",
    "sns.set(style=\"ticks\")"
   ]
  },
  {
   "cell_type": "code",
   "execution_count": null,
   "id": "2678846d-9b12-408c-8b9c-124aa232622b",
   "metadata": {},
   "outputs": [],
   "source": [
    "path ='https://raw.githubusercontent.com/guipsamora/pandas_exercises/master/07_Visualization/Online_Retail/Online_Retail.csv'\n",
    "online_rt = pd.read_csv(path, encoding = 'latin1')\n",
    "online_rt.head()\n",
    "\n",
    "online_rt = pd.read_csv(r'C:\\Users\\YourName\\Documents\\online_retail.csv')\n",
    "print(online_rt.head())"
   ]
  },
  {
   "cell_type": "code",
   "execution_count": null,
   "id": "e646e6c9-1ce4-4e40-9604-de392647794f",
   "metadata": {},
   "outputs": [],
   "source": [
    "# group by the Country\n",
    "countries = online_rt.groupby(\"Country\").sum(numeric_only=True)\n",
    "\n",
    "# sort the value and get the first 10 after UK\n",
    "top_countries = countries.sort_values(by = 'Quantity',ascending = False)[1:11]\n",
    "colors = plt.cm.tab10.colors  # 10 distinct colors from matplotlib's colormap\n",
    "\n",
    "# create the plot\n",
    "top_countries['Quantity'].plot(kind=\"bar\",figsize=(10,6),color=colors)\n",
    "\n",
    "# Set the title and labels\n",
    "plt.xlabel('Countries')\n",
    "plt.ylabel('Quantity')\n",
    "plt.title(\"Top 10 Countries with most orders(by Quantity)\")\n",
    "plt.xticks(rotation=45)\n",
    "plt.tight_layout()\n",
    "plt.show()"
   ]
  },
  {
   "cell_type": "code",
   "execution_count": null,
   "id": "93585429-4b95-40b0-83d7-7578d221103e",
   "metadata": {},
   "outputs": [],
   "source": []
  }
 ],
 "metadata": {
  "kernelspec": {
   "display_name": "Python [conda env:base] *",
   "language": "python",
   "name": "conda-base-py"
  },
  "language_info": {
   "codemirror_mode": {
    "name": "ipython",
    "version": 3
   },
   "file_extension": ".py",
   "mimetype": "text/x-python",
   "name": "python",
   "nbconvert_exporter": "python",
   "pygments_lexer": "ipython3",
   "version": "3.13.5"
  }
 },
 "nbformat": 4,
 "nbformat_minor": 5
}
