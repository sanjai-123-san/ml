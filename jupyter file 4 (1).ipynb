{
 "cells": [
  {
   "cell_type": "code",
   "execution_count": 4,
   "id": "7fcaa577-6ec3-4937-a7b0-44b9e013dddb",
   "metadata": {},
   "outputs": [],
   "source": [
    "#pip install beautifulSoup4 "
   ]
  },
  {
   "cell_type": "code",
   "execution_count": 5,
   "id": "509ede32-0ef5-40b3-8e9c-56696abefffa",
   "metadata": {},
   "outputs": [],
   "source": [
    "#pip install beautifulSoup4 requests"
   ]
  },
  {
   "cell_type": "code",
   "execution_count": 6,
   "id": "773c4d3e-8f8a-4901-a8a4-0ff39470bbd8",
   "metadata": {},
   "outputs": [],
   "source": [
    "import requests\n",
    "from bs4 import BeautifulSoup"
   ]
  },
  {
   "cell_type": "code",
   "execution_count": 7,
   "id": "b292fab7-757a-43a5-a7bc-3327941c6a2f",
   "metadata": {},
   "outputs": [],
   "source": [
    "url=\"http://books.toscrape.com\""
   ]
  },
  {
   "cell_type": "code",
   "execution_count": 8,
   "id": "e210dc12-e562-4ceb-a321-548802dd1332",
   "metadata": {},
   "outputs": [],
   "source": [
    "response=requests.get(url)"
   ]
  },
  {
   "cell_type": "code",
   "execution_count": 9,
   "id": "4cf1fb29-9bec-454b-8f89-c6dd1395eb9a",
   "metadata": {},
   "outputs": [],
   "source": [
    "soup=BeautifulSoup(response.text,'html.parser')"
   ]
  },
  {
   "cell_type": "code",
   "execution_count": 10,
   "id": "9c2f085d-c155-419d-9fa8-3494239e1851",
   "metadata": {},
   "outputs": [],
   "source": [
    "Books=soup.find_all('article',class_='product_pod')"
   ]
  },
  {
   "cell_type": "code",
   "execution_count": 11,
   "id": "d4ef3336-b286-4b21-b71d-b1fe1f7646b5",
   "metadata": {},
   "outputs": [],
   "source": [
    "book_data=[]\n",
    "books=soup.find_all('article',class_='product_pod')"
   ]
  },
  {
   "cell_type": "code",
   "execution_count": 12,
   "id": "9e61e50d-1870-4264-807f-f5346548911b",
   "metadata": {},
   "outputs": [
    {
     "name": "stdout",
     "output_type": "stream",
     "text": [
      "Title:A Light in the Attic\n",
      "Price:Â£51.77\n",
      "\n",
      "Title:Tipping the Velvet\n",
      "Price:Â£53.74\n",
      "\n",
      "Title:Soumission\n",
      "Price:Â£50.10\n",
      "\n",
      "Title:Sharp Objects\n",
      "Price:Â£47.82\n",
      "\n",
      "Title:Sapiens: A Brief History of Humankind\n",
      "Price:Â£54.23\n",
      "\n",
      "Title:The Requiem Red\n",
      "Price:Â£22.65\n",
      "\n",
      "Title:The Dirty Little Secrets of Getting Your Dream Job\n",
      "Price:Â£33.34\n",
      "\n",
      "Title:The Coming Woman: A Novel Based on the Life of the Infamous Feminist, Victoria Woodhull\n",
      "Price:Â£17.93\n",
      "\n",
      "Title:The Boys in the Boat: Nine Americans and Their Epic Quest for Gold at the 1936 Berlin Olympics\n",
      "Price:Â£22.60\n",
      "\n",
      "Title:The Black Maria\n",
      "Price:Â£52.15\n",
      "\n",
      "Title:Starving Hearts (Triangular Trade Trilogy, #1)\n",
      "Price:Â£13.99\n",
      "\n",
      "Title:Shakespeare's Sonnets\n",
      "Price:Â£20.66\n",
      "\n",
      "Title:Set Me Free\n",
      "Price:Â£17.46\n",
      "\n",
      "Title:Scott Pilgrim's Precious Little Life (Scott Pilgrim #1)\n",
      "Price:Â£52.29\n",
      "\n",
      "Title:Rip it Up and Start Again\n",
      "Price:Â£35.02\n",
      "\n",
      "Title:Our Band Could Be Your Life: Scenes from the American Indie Underground, 1981-1991\n",
      "Price:Â£57.25\n",
      "\n",
      "Title:Olio\n",
      "Price:Â£23.88\n",
      "\n",
      "Title:Mesaerion: The Best Science Fiction Stories 1800-1849\n",
      "Price:Â£37.59\n",
      "\n",
      "Title:Libertarianism for Beginners\n",
      "Price:Â£51.33\n",
      "\n",
      "Title:It's Only the Himalayas\n",
      "Price:Â£45.17\n",
      "\n"
     ]
    }
   ],
   "source": [
    "for book in books:\n",
    "    title=book.h3.a['title']\n",
    "    price=book.find('p',class_='price_color').text\n",
    "    print(f\"Title:{title}\\nPrice:{price}\\n\")\n",
    "    book_data.append({\"Title\":title,\"Price\":price})"
   ]
  },
  {
   "cell_type": "code",
   "execution_count": 13,
   "id": "20cfa277-320f-4818-9f39-178e09b7741f",
   "metadata": {},
   "outputs": [
    {
     "name": "stdout",
     "output_type": "stream",
     "text": [
      "Title:A Light in the Attic\n",
      "Price:Â£51.77\n",
      "\n",
      "Title:Tipping the Velvet\n",
      "Price:Â£53.74\n",
      "\n",
      "Title:Soumission\n",
      "Price:Â£50.10\n",
      "\n",
      "Title:Sharp Objects\n",
      "Price:Â£47.82\n",
      "\n",
      "Title:Sapiens: A Brief History of Humankind\n",
      "Price:Â£54.23\n",
      "\n",
      "Title:The Requiem Red\n",
      "Price:Â£22.65\n",
      "\n",
      "Title:The Dirty Little Secrets of Getting Your Dream Job\n",
      "Price:Â£33.34\n",
      "\n",
      "Title:The Coming Woman: A Novel Based on the Life of the Infamous Feminist, Victoria Woodhull\n",
      "Price:Â£17.93\n",
      "\n",
      "Title:The Boys in the Boat: Nine Americans and Their Epic Quest for Gold at the 1936 Berlin Olympics\n",
      "Price:Â£22.60\n",
      "\n",
      "Title:The Black Maria\n",
      "Price:Â£52.15\n",
      "\n",
      "Title:Starving Hearts (Triangular Trade Trilogy, #1)\n",
      "Price:Â£13.99\n",
      "\n",
      "Title:Shakespeare's Sonnets\n",
      "Price:Â£20.66\n",
      "\n",
      "Title:Set Me Free\n",
      "Price:Â£17.46\n",
      "\n",
      "Title:Scott Pilgrim's Precious Little Life (Scott Pilgrim #1)\n",
      "Price:Â£52.29\n",
      "\n",
      "Title:Rip it Up and Start Again\n",
      "Price:Â£35.02\n",
      "\n",
      "Title:Our Band Could Be Your Life: Scenes from the American Indie Underground, 1981-1991\n",
      "Price:Â£57.25\n",
      "\n",
      "Title:Olio\n",
      "Price:Â£23.88\n",
      "\n",
      "Title:Mesaerion: The Best Science Fiction Stories 1800-1849\n",
      "Price:Â£37.59\n",
      "\n",
      "Title:Libertarianism for Beginners\n",
      "Price:Â£51.33\n",
      "\n",
      "Title:It's Only the Himalayas\n",
      "Price:Â£45.17\n",
      "\n"
     ]
    }
   ],
   "source": [
    "#Find all book containers\n",
    "for book in books:\n",
    "    title=book.h3.a['title']\n",
    "    price=book.find('p',class_='price_color').text\n",
    "    print(f\"Title:{title}\\nPrice:{price}\\n\")\n",
    "    book_data.append({\"Title\":title,\"Price\":price})"
   ]
  },
  {
   "cell_type": "code",
   "execution_count": 14,
   "id": "ccb856c7-3128-4a42-8d34-ea9d45e74544",
   "metadata": {},
   "outputs": [],
   "source": [
    "book_data=[]\n",
    "conversion_rate=104 #1 GBP≈104 INR(check current rate)"
   ]
  },
  {
   "cell_type": "code",
   "execution_count": 15,
   "id": "c008a55f-27e8-4be3-96d2-b3ef9045d3d5",
   "metadata": {},
   "outputs": [
    {
     "name": "stdout",
     "output_type": "stream",
     "text": [
      "Title:A Light in the Attic\n",
      "Price:Â£45.17\n",
      "\n",
      "Title:Tipping the Velvet\n",
      "Price:Â£45.17\n",
      "\n",
      "Title:Soumission\n",
      "Price:Â£45.17\n",
      "\n",
      "Title:Sharp Objects\n",
      "Price:Â£45.17\n",
      "\n",
      "Title:Sapiens: A Brief History of Humankind\n",
      "Price:Â£45.17\n",
      "\n",
      "Title:The Requiem Red\n",
      "Price:Â£45.17\n",
      "\n",
      "Title:The Dirty Little Secrets of Getting Your Dream Job\n",
      "Price:Â£45.17\n",
      "\n",
      "Title:The Coming Woman: A Novel Based on the Life of the Infamous Feminist, Victoria Woodhull\n",
      "Price:Â£45.17\n",
      "\n",
      "Title:The Boys in the Boat: Nine Americans and Their Epic Quest for Gold at the 1936 Berlin Olympics\n",
      "Price:Â£45.17\n",
      "\n",
      "Title:The Black Maria\n",
      "Price:Â£45.17\n",
      "\n",
      "Title:Starving Hearts (Triangular Trade Trilogy, #1)\n",
      "Price:Â£45.17\n",
      "\n",
      "Title:Shakespeare's Sonnets\n",
      "Price:Â£45.17\n",
      "\n",
      "Title:Set Me Free\n",
      "Price:Â£45.17\n",
      "\n",
      "Title:Scott Pilgrim's Precious Little Life (Scott Pilgrim #1)\n",
      "Price:Â£45.17\n",
      "\n",
      "Title:Rip it Up and Start Again\n",
      "Price:Â£45.17\n",
      "\n",
      "Title:Our Band Could Be Your Life: Scenes from the American Indie Underground, 1981-1991\n",
      "Price:Â£45.17\n",
      "\n",
      "Title:Olio\n",
      "Price:Â£45.17\n",
      "\n",
      "Title:Mesaerion: The Best Science Fiction Stories 1800-1849\n",
      "Price:Â£45.17\n",
      "\n",
      "Title:Libertarianism for Beginners\n",
      "Price:Â£45.17\n",
      "\n",
      "Title:It's Only the Himalayas\n",
      "Price:Â£45.17\n",
      "\n"
     ]
    }
   ],
   "source": [
    "for book in books:\n",
    "    title= book.h3.a['title']\n",
    "    price_gbp=book.find('p',class_='price_color').text \n",
    "    print(f\"Title:{title}\\nPrice:{price}\\n\")\n",
    "    book_data.append({\"Title\":title,\"Price\":price})"
   ]
  },
  {
   "cell_type": "code",
   "execution_count": 16,
   "id": "12e74787-0c91-4870-82aa-f546595258f5",
   "metadata": {},
   "outputs": [],
   "source": [
    "#Clean the price string by removing unwanted characters\n",
    "price_gbp_cleaned= price_gbp.replace('£',\").replace('Â',\").strip()"
   ]
  },
  {
   "cell_type": "code",
   "execution_count": 17,
   "id": "11d09e44-66a2-4c28-8c59-ef3ff60f5d0f",
   "metadata": {},
   "outputs": [
    {
     "name": "stdout",
     "output_type": "stream",
     "text": [
      "Error converting price for'It's Only the Himalayas':Â£45.17\n"
     ]
    }
   ],
   "source": [
    "try:\n",
    "    #Convert cleaned price to float\n",
    "    price_gbp_value = float(price_gbp_cleaned) if price_gbp_cleaned else 0.0\n",
    "    \n",
    "    #Convert to INR\n",
    "    price_inr=price_gbp_value*conversion_rate\n",
    "    \n",
    "    #Format output\n",
    "    print(f\"Title:{title}\\nPrice(GBP):£{price_gbp_value:.2f}\\nPrice(INR):rupees{price_inr:.2f}\\n\")\n",
    "    \n",
    "    book_data.append({\n",
    "        \"Title\":title,\n",
    "        \"Price(GBP)\":f\"£{price_gbp_value:.2f}\",\n",
    "        \"Price(INR)\":f\"rupees{price_inr:.2f}\"})\n",
    "    \n",
    "except ValueError:\n",
    "    print(f\"Error converting price for'{title}':{price_gbp}\")\n",
    "    "
   ]
  },
  {
   "cell_type": "code",
   "execution_count": null,
   "id": "350b5182-39ec-48b3-a862-438801bbdfa2",
   "metadata": {},
   "outputs": [],
   "source": []
  }
 ],
 "metadata": {
  "kernelspec": {
   "display_name": "Python [conda env:base] *",
   "language": "python",
   "name": "conda-base-py"
  },
  "language_info": {
   "codemirror_mode": {
    "name": "ipython",
    "version": 3
   },
   "file_extension": ".py",
   "mimetype": "text/x-python",
   "name": "python",
   "nbconvert_exporter": "python",
   "pygments_lexer": "ipython3",
   "version": "3.13.5"
  }
 },
 "nbformat": 4,
 "nbformat_minor": 5
}
