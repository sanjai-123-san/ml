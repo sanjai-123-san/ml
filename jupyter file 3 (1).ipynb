{
 "cells": [
  {
   "cell_type": "code",
   "execution_count": 2,
   "id": "0c012c9b-0e36-4a25-9da9-221dbdf3a9fd",
   "metadata": {},
   "outputs": [],
   "source": [
    "import numpy as np"
   ]
  },
  {
   "cell_type": "raw",
   "id": "e44bd124-9050-4b91-9dff-625ed46e1f93",
   "metadata": {},
   "source": [
    "import pandas as pd"
   ]
  },
  {
   "cell_type": "code",
   "execution_count": 3,
   "id": "48fab8b7-662c-4fe8-9c45-e7950b8f2a55",
   "metadata": {},
   "outputs": [],
   "source": [
    "np.random.seed(42)"
   ]
  },
  {
   "cell_type": "code",
   "execution_count": 17,
   "id": "191f5099-999c-40ef-ae3c-a7bbccc70755",
   "metadata": {},
   "outputs": [],
   "source": [
    "employee_ids=[f\"EMP_{i:03d}\" for i in range(1,31)]\n",
    "dates= pd.date_range(\"2025-07-01\",periods=30,freq=\"D\")"
   ]
  },
  {
   "cell_type": "code",
   "execution_count": 18,
   "id": "70c76c6d-56b2-449d-ada5-882f66b87f19",
   "metadata": {},
   "outputs": [],
   "source": [
    "data={\n",
    "    \"Date\":np.tile(dates, len(employee_ids)),\n",
    "    \"Employee_ID\":np.repeat(employee_ids, len(dates)),\n",
    "    \"Working_Hours\":np.random.uniform(4,10,size=len(dates)*len(employee_ids)).round(2)\n",
    "}        "
   ]
  },
  {
   "cell_type": "code",
   "execution_count": 19,
   "id": "eeb36c69-2e0a-478b-b35e-383235ae004e",
   "metadata": {},
   "outputs": [],
   "source": [
    "df=pd.DataFrame(data)"
   ]
  },
  {
   "cell_type": "code",
   "execution_count": 22,
   "id": "425d5b9f-99b4-49ec-8922-4b3eb59a7209",
   "metadata": {},
   "outputs": [],
   "source": [
    "df.to_csv(\"employee_working_hours.csv\", index=False)"
   ]
  },
  {
   "cell_type": "code",
   "execution_count": 24,
   "id": "1ab55e4e-f74a-4e52-b980-a75957088e18",
   "metadata": {},
   "outputs": [],
   "source": [
    "df_csv=pd.read_csv(\"employee_working_hours.csv\")"
   ]
  },
  {
   "cell_type": "code",
   "execution_count": 25,
   "id": "177ae37d-3232-4284-89dd-443f4b8303f6",
   "metadata": {},
   "outputs": [
    {
     "name": "stdout",
     "output_type": "stream",
     "text": [
      "         Date Employee_ID  Working_Hours\n",
      "0  2025-07-01     EMP_001           6.25\n",
      "1  2025-07-02     EMP_001           9.70\n",
      "2  2025-07-03     EMP_001           8.39\n",
      "3  2025-07-04     EMP_001           7.59\n",
      "4  2025-07-05     EMP_001           4.94\n",
      "       Working_Hours\n",
      "count     900.000000\n",
      "mean        6.954233\n",
      "std         1.762088\n",
      "min         4.030000\n",
      "25%         5.387500\n",
      "50%         7.010000\n",
      "75%         8.490000\n",
      "max        10.000000\n",
      "30\n"
     ]
    }
   ],
   "source": [
    "#Analyze the Data\n",
    "print(df_csv.head())\n",
    "print(df_csv.describe())\n",
    "print(df_csv[\"Employee_ID\"].nunique())"
   ]
  },
  {
   "cell_type": "code",
   "execution_count": 26,
   "id": "1676834c-7961-4bd8-b985-6a148f9b2228",
   "metadata": {},
   "outputs": [],
   "source": [
    "#Total hours per employee\n",
    "total_hours=df_csv.groupby(\"Employee_ID\")[\"Working_Hours\"].sum().sort_values(ascending=False)"
   ]
  },
  {
   "cell_type": "code",
   "execution_count": 27,
   "id": "b8666b2a-652d-4d49-9a81-869a6c6d315f",
   "metadata": {},
   "outputs": [],
   "source": [
    "#Average daily hours per employee\n",
    "avg_daily=df_csv.groupby(\"Employee_ID\")[\"Working_Hours\"].mean()"
   ]
  },
  {
   "cell_type": "code",
   "execution_count": 28,
   "id": "dedba237-6bb0-4785-9fc5-77f984b4d4ad",
   "metadata": {},
   "outputs": [],
   "source": [
    "#Flag unusually low or high working days\n",
    "threshold_low=5\n",
    "threshold_high=9"
   ]
  },
  {
   "cell_type": "code",
   "execution_count": 29,
   "id": "eb1cd7cc-be1e-4833-8ce9-994aa28878af",
   "metadata": {},
   "outputs": [],
   "source": [
    "df_csv[\"Low_Hour_Flag\"]=df_csv[\"Working_Hours\"]<threshold_low\n",
    "df_csv[\"High_Hour_Flag\"]=df_csv[\"Working_Hours\"]>threshold_high"
   ]
  },
  {
   "cell_type": "code",
   "execution_count": 33,
   "id": "2dba7901-6a2c-467d-8632-071d4c8d8dd0",
   "metadata": {},
   "outputs": [
    {
     "name": "stdout",
     "output_type": "stream",
     "text": [
      "         Date Employee_ID  Working_Hours  Low_Hour_Flag  High_Hour_Flag\n",
      "1  2025-07-02     EMP_001           9.70          False            True\n",
      "4  2025-07-05     EMP_001           4.94           True           False\n",
      "5  2025-07-06     EMP_001           4.94           True           False\n",
      "6  2025-07-07     EMP_001           4.35           True           False\n",
      "7  2025-07-08     EMP_001           9.20          False            True\n"
     ]
    }
   ],
   "source": [
    "#view flagged rows\n",
    "print(df_csv[df_csv[\"Low_Hour_Flag\"]|\n",
    "df_csv[\"High_Hour_Flag\"]].head())"
   ]
  },
  {
   "cell_type": "code",
   "execution_count": 34,
   "id": "a9070fe3-3096-4e89-b64d-5badc13ab6e9",
   "metadata": {},
   "outputs": [],
   "source": [
    "#Visualize the Insights\n",
    "import matplotlib.pyplot as plt\n",
    "import seaborn as sns"
   ]
  },
  {
   "cell_type": "code",
   "execution_count": 35,
   "id": "7e04fc65-c707-4f4a-b2fc-82297320197f",
   "metadata": {},
   "outputs": [
    {
     "data": {
      "image/png": "[encoded data removed]",
      "text/plain": [
       "<Figure size 1000x500 with 1 Axes>"
      ]
     },
     "metadata": {},
     "output_type": "display_data"
    }
   ],
   "source": [
    "#Bar chart of top 10 employees with highest total hours\n",
    "top10=total_hours.head(10)\n",
    "plt.figure(figsize=(10,5))\n",
    "sns.barplot(x=top10.index,y=top10.values)\n",
    "plt.xticks(rotation=45)\n",
    "plt.title(\"Top 10 Employees by Total Working Hours\")\n",
    "plt.ylabel(\"Hours\")\n",
    "plt.tight_layout()\n",
    "plt.show()"
   ]
  },
  {
   "cell_type": "code",
   "execution_count": null,
   "id": "d1406419-8ca7-45f8-8a57-85cbce25ddd9",
   "metadata": {},
   "outputs": [],
   "source": []
  }
 ],
 "metadata": {
  "kernelspec": {
   "display_name": "Python [conda env:base] *",
   "language": "python",
   "name": "conda-base-py"
  },
  "language_info": {
   "codemirror_mode": {
    "name": "ipython",
    "version": 3
   },
   "file_extension": ".py",
   "mimetype": "text/x-python",
   "name": "python",
   "nbconvert_exporter": "python",
   "pygments_lexer": "ipython3",
   "version": "3.13.5"
  }
 },
 "nbformat": 4,
 "nbformat_minor": 5
}
