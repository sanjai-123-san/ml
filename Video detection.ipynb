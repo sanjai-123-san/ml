{
 "cells": [
  {
   "cell_type": "code",
   "execution_count": 1,
   "id": "ffc09cc9-2b16-4c95-b0cd-c4e4569567cb",
   "metadata": {},
   "outputs": [],
   "source": [
    "import cv2\n",
    "import numpy as np\n",
    "\n"
   ]
  },
  {
   "cell_type": "code",
   "execution_count": 2,
   "id": "638d36f1-42ed-47d5-bac8-b1b147a0ecd2",
   "metadata": {},
   "outputs": [],
   "source": [
    "cap = cv2.VideoCapture(0)"
   ]
  },
  {
   "cell_type": "code",
   "execution_count": 3,
   "id": "292955a7-2224-4017-b22c-cf22a8a6c5be",
   "metadata": {},
   "outputs": [],
   "source": [
    "lower_blue = np.array([100, 150, 50])   # lower bound of blue\n",
    "upper_blue = np.array([140, 255, 255])  # upper bound of blue\n",
    "\n",
    "while True:\n",
    "    ret, frame = cap.read()\n",
    "    if not ret:\n",
    "        break\n",
    "\n",
    "    # Convert BGR frame to HSV\n",
    "    hsv = cv2.cvtColor(frame, cv2.COLOR_BGR2HSV)\n",
    "\n",
    "    # Create a mask for blue color\n",
    "    mask = cv2.inRange(hsv, lower_blue, upper_blue)\n",
    "\n",
    "    # Apply the mask on original frame\n",
    "    result = cv2.bitwise_and(frame, frame, mask=mask)\n",
    "\n",
    "    # Show the original, mask, and result\n",
    "    cv2.imshow(\"Original\", frame)\n",
    "    cv2.imshow(\"Mask (Blue Regions)\", mask)\n",
    "    cv2.imshow(\"Detected Blue Objects\", result)\n",
    "\n",
    "    # Press 'q' to exit\n",
    "    if cv2.waitKey(1) & 0xFF == ord('q'):\n",
    "        break\n",
    "\n",
    "cap.release()\n",
    "cv2.destroyAllWindows()\n"
   ]
  },
  {
   "cell_type": "code",
   "execution_count": null,
   "id": "2cf98bd7-f874-442b-a935-ea2385ee933f",
   "metadata": {},
   "outputs": [],
   "source": []
  }
 ],
 "metadata": {
  "kernelspec": {
   "display_name": "Python [conda env:base] *",
   "language": "python",
   "name": "conda-base-py"
  },
  "language_info": {
   "codemirror_mode": {
    "name": "ipython",
    "version": 3
   },
   "file_extension": ".py",
   "mimetype": "text/x-python",
   "name": "python",
   "nbconvert_exporter": "python",
   "pygments_lexer": "ipython3",
   "version": "3.13.5"
  }
 },
 "nbformat": 4,
 "nbformat_minor": 5
}
